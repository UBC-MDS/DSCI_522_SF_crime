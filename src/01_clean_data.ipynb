{
 "cells": [
  {
   "cell_type": "code",
   "execution_count": null,
   "metadata": {},
   "outputs": [],
   "source": [
    "#!/usr/bin/env python\n",
    "# 01_clean_data.py\n",
    "# Ian Flores Siaca November 23, 2018\n",
    "#\n",
    "# This script downloads the data from the SF portal API, cleans it, and saves it as a CSV file.\n",
    "# This script takes the number of cases to be requested, and the output file path.\n",
    "#\n",
    "# Dependencies: pandas, numpy, argparse, pendulum\n",
    "#\n",
    "# Usage: python 01_clean_data.py \"300000\" \"data/san_francisco_clean.csv\""
   ]
  },
  {
   "cell_type": "code",
   "execution_count": 10,
   "metadata": {},
   "outputs": [],
   "source": [
    "# Loading the libraries to be used\n",
    "\n",
    "import pandas as pd\n",
    "import numpy as np\n",
    "import pendulum\n",
    "\n",
    "import argparse"
   ]
  },
  {
   "cell_type": "code",
   "execution_count": 11,
   "metadata": {
    "collapsed": true
   },
   "outputs": [
    {
     "name": "stderr",
     "output_type": "stream",
     "text": [
      "usage: ipykernel_launcher.py [-h] [--api_limit API_LIMIT]\n",
      "                             [--output_file OUTPUT_FILE]\n",
      "ipykernel_launcher.py: error: unrecognized arguments: -f /run/user/1000/jupyter/kernel-d7211af7-64bd-4f6c-91e9-52c7c4038b00.json\n"
     ]
    },
    {
     "ename": "SystemExit",
     "evalue": "2",
     "output_type": "error",
     "traceback": [
      "An exception has occurred, use %tb to see the full traceback.\n",
      "\u001b[0;31mSystemExit\u001b[0m\u001b[0;31m:\u001b[0m 2\n"
     ]
    },
    {
     "name": "stderr",
     "output_type": "stream",
     "text": [
      "/home/kropotkin/anaconda3/lib/python3.6/site-packages/IPython/core/interactiveshell.py:2971: UserWarning: To exit: use 'exit', 'quit', or Ctrl-D.\n",
      "  warn(\"To exit: use 'exit', 'quit', or Ctrl-D.\", stacklevel=1)\n"
     ]
    }
   ],
   "source": [
    "# Adding support to use script from the CLI\n",
    "\n",
    "parser = argparse.ArgumentParser()\n",
    "parser.add_argument('api_limit')\n",
    "parser.add_argument('output_file')\n",
    "args = parser.parse_args()"
   ]
  },
  {
   "cell_type": "code",
   "execution_count": null,
   "metadata": {},
   "outputs": [],
   "source": [
    "# Parsing the CLI input to use it on Python\n",
    "api_limit = int(args.api_limit)\n",
    "out_file = args.output_file"
   ]
  },
  {
   "cell_type": "code",
   "execution_count": 3,
   "metadata": {},
   "outputs": [],
   "source": [
    "# Downloading the data from the SF portal API\n",
    "\n",
    "app_token = 'Z4iZ6NVV0wNPCeGxCLQVMEYMI'\n",
    "\n",
    "base_url = 'https://data.sfgov.org/resource/cuks-n6tp.csv?$$app_token='\n",
    "sf_url = base_url + app_token + '&$limit=' + str(api_limit)\n",
    "\n",
    "sf_data = pd.read_csv(sf_url)\n",
    "\n",
    "sf_data = sf_data[['category', 'date', 'dayofweek', 'descript',\n",
    "                    'pddistrict',\n",
    "                    'resolution', 'time', 'x', 'y']]"
   ]
  },
  {
   "cell_type": "code",
   "execution_count": 4,
   "metadata": {},
   "outputs": [],
   "source": [
    "# Extracting month and day of incident to be used as features\n",
    "\n",
    "parse_dates = np.vectorize(pendulum.parse)\n",
    "sf_dates = parse_dates(sf_data.date)\n",
    "\n",
    "months = []\n",
    "days = []\n",
    "\n",
    "for date in sf_dates:\n",
    "    months.append(date.month)\n",
    "    days.append(date.day)\n",
    "    \n",
    "sf_data['report_month'] = months\n",
    "sf_data['report_day'] = days"
   ]
  },
  {
   "cell_type": "code",
   "execution_count": 5,
   "metadata": {},
   "outputs": [],
   "source": [
    "# Extracting time as minutes from midnight to have a continous feature. \n",
    "\n",
    "sf_times = parse_dates(sf_data.time)\n",
    "\n",
    "times = []\n",
    "\n",
    "for time in sf_times:\n",
    "    times.append(time.hour*60 + time.minute)\n",
    "\n",
    "sf_data['time'] = times\n",
    "\n",
    "sf_data = sf_data[['category', 'dayofweek', \n",
    "         'descript','pddistrict',\n",
    "         'resolution', 'time', \n",
    "         'x', 'y', 'report_month', 'report_day']]"
   ]
  },
  {
   "cell_type": "code",
   "execution_count": 6,
   "metadata": {},
   "outputs": [],
   "source": [
    "# Recoding our labels\n",
    "\n",
    "sf_data = sf_data.replace({'resolution': \n",
    "                 ['NONE', 'CLEARED-CONTACT JUVENILE FOR MORE INFO',\n",
    "                  'UNFOUNDED', 'JUVENILE ADMONISHED','EXCEPTIONAL CLEARANCE', \n",
    "                  'JUVENILE DIVERTED']}, 'non_processed')\n",
    "\n",
    "sf_data = sf_data.replace({'resolution': \n",
    "                 ['ARREST, BOOKED', 'ARREST, CITED', 'NOT PROSECUTED', \n",
    "                  'PSYCHOPATHIC CASE', 'JUVENILE CITED', 'JUVENILE BOOKED', 'LOCATED',\n",
    "                  'PROSECUTED BY OUTSIDE AGENCY', 'COMPLAINANT REFUSES TO PROSECUTE',\n",
    "                  'DISTRICT ATTORNEY REFUSES TO PROSECUTE', 'PROSECUTED FOR LESSER OFFENSE']}, 'processed')"
   ]
  },
  {
   "cell_type": "code",
   "execution_count": 9,
   "metadata": {},
   "outputs": [],
   "source": [
    "sf_data.to_csv(out_file, index_label=False, index=False)"
   ]
  }
 ],
 "metadata": {
  "kernelspec": {
   "display_name": "Python 3",
   "language": "python",
   "name": "python3"
  },
  "language_info": {
   "codemirror_mode": {
    "name": "ipython",
    "version": 3
   },
   "file_extension": ".py",
   "mimetype": "text/x-python",
   "name": "python",
   "nbconvert_exporter": "python",
   "pygments_lexer": "ipython3",
   "version": "3.6.5"
  }
 },
 "nbformat": 4,
 "nbformat_minor": 2
}
