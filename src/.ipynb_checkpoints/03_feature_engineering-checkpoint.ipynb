{
 "cells": [
  {
   "cell_type": "code",
   "execution_count": null,
   "metadata": {},
   "outputs": [],
   "source": [
    "#!/usr/bin/env python\n",
    "# 03_clean_data.py\n",
    "# Ian Flores Siaca November 23, 2018\n",
    "#\n",
    "# This script extracts and formats the features necessary for the Decision Tree Classifier.\n",
    "# This script takes the input file path, and the output file path.\n",
    "#\n",
    "# Dependencies: pandas, sklearn, argparse\n",
    "#\n",
    "# Usage: python 03_clean_data.py \"data/san_francisco_clean.csv\" \"data/san_francisco_features.csv\""
   ]
  },
  {
   "cell_type": "code",
   "execution_count": 11,
   "metadata": {},
   "outputs": [],
   "source": [
    "# Loading the libraries to be used\n",
    "\n",
    "import pandas as pd\n",
    "\n",
    "from sklearn.feature_extraction.text import CountVectorizer\n",
    "\n",
    "import argparse"
   ]
  },
  {
   "cell_type": "code",
   "execution_count": null,
   "metadata": {},
   "outputs": [],
   "source": [
    "# Adding support to use script from the CLI\n",
    "\n",
    "parser = argparse.ArgumentParser()\n",
    "parser.add_argument('input_file')\n",
    "parser.add_argument('output_file')\n",
    "args = parser.parse_args()"
   ]
  },
  {
   "cell_type": "code",
   "execution_count": null,
   "metadata": {},
   "outputs": [],
   "source": [
    "# Parsing the CLI input to use it on Python\n",
    "\n",
    "input_file = args.input_file\n",
    "output_file = args.output_file"
   ]
  },
  {
   "cell_type": "code",
   "execution_count": 13,
   "metadata": {},
   "outputs": [],
   "source": [
    "# One Hot Encoding the cateogrical variables\n",
    "\n",
    "sf_data = pd.read_csv(input_file)\n",
    "sf_data = pd.get_dummies(\n",
    "    sf_data,\n",
    "    columns=[\n",
    "        'category', 'dayofweek', 'pddistrict', 'report_month', 'report_day'\n",
    "    ])"
   ]
  },
  {
   "cell_type": "code",
   "execution_count": 15,
   "metadata": {},
   "outputs": [],
   "source": [
    "# Extracting the words in the descript column to be used as features\n",
    "\n",
    "cv = CountVectorizer(max_features=50, stop_words='english')\n",
    "description_features = cv.fit_transform(sf_data.descript).toarray()\n",
    "\n",
    "description_features_df = pd.DataFrame(\n",
    "    description_features, columns=sorted(cv.vocabulary_), index=sf_data.index)"
   ]
  },
  {
   "cell_type": "code",
   "execution_count": 17,
   "metadata": {},
   "outputs": [],
   "source": [
    "sf_data = pd.merge(\n",
    "    sf_data, description_features_df, left_index=True, right_index=True)"
   ]
  },
  {
   "cell_type": "code",
   "execution_count": 18,
   "metadata": {},
   "outputs": [],
   "source": [
    "sf_data = sf_data.drop('descript', axis=1)"
   ]
  },
  {
   "cell_type": "code",
   "execution_count": 20,
   "metadata": {},
   "outputs": [],
   "source": [
    "sf_data.to_csv(output_file, index_label=False, index=False)"
   ]
  }
 ],
 "metadata": {
  "kernelspec": {
   "display_name": "Python 3",
   "language": "python",
   "name": "python3"
  },
  "language_info": {
   "codemirror_mode": {
    "name": "ipython",
    "version": 3
   },
   "file_extension": ".py",
   "mimetype": "text/x-python",
   "name": "python",
   "nbconvert_exporter": "python",
   "pygments_lexer": "ipython3",
   "version": "3.6.5"
  }
 },
 "nbformat": 4,
 "nbformat_minor": 2
}
