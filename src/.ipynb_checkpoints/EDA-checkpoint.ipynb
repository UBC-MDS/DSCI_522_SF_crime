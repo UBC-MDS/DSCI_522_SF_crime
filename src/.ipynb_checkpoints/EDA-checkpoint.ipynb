{
 "cells": [
  {
   "cell_type": "code",
   "execution_count": 48,
   "metadata": {},
   "outputs": [],
   "source": [
    "#!/usr/bin/env python\n",
    "import argparse\n",
    "import pandas as pd\n",
    "import numpy as np\n",
    "import seaborn as sns\n",
    "import matplotlib.pyplot as plt\n",
    "from matplotlib import rcParams"
   ]
  },
  {
   "cell_type": "code",
   "execution_count": 57,
   "metadata": {},
   "outputs": [],
   "source": [
    "parser = argparse.ArgumentParser()\n",
    "parser.add_argument('input_file')\n",
    "parser.add_argument('output_file')\n",
    "args = parser.parse_args()\n",
    "\n",
    "#input_file = \"../data/clean_sf_data.csv\"\n",
    "#output_file = \"../results/figures/\"\n",
    "\n",
    "def main():\n",
    "    \n",
    "    #read input file\n",
    "    sf_data = pd.read_csv(args.input_file)\n",
    "    \n",
    "    # Checking imbalances in target classes\n",
    "    sns.countplot(data=sf_data, x='resolution')\n",
    "    plt.savefig(args.output_file + str('target') + \"_plot.png\")\n",
    "    plt.close()\n",
    "    \n",
    "    # Create plot for categorical features\n",
    "    X_features = {'category': 'Category',\n",
    "                  'pddistrict': 'Police District', \n",
    "                  'dayofweek' : \"Day of week\",\n",
    "                  'report_month' : 'Month of Incident Report',\n",
    "                  'report_day' : 'Day of Incident Report'}\n",
    "    for i in X_features:\n",
    "        cat_plot(sf_data, i)\n",
    "        plt.xlabel(X_features[i])\n",
    "        plt.tight_layout()\n",
    "        plt.savefig(args.output_file + str(i) + \"_plot.png\")\n",
    "        plt.close()\n",
    "    \n",
    "    # Histogram for longitude\n",
    "    plot_his_bins(sf_data, 'x', 'longitude', 200)\n",
    "    # Histogram for latitude\n",
    "    plot_his_bins(sf_data, 'y', 'latitude', 30)\n",
    "    # Histogram for time\n",
    "    plot_his_bins(sf_data, 'time', 'time (mins from midnight)', 40)\n",
    "\n",
    "def cat_plot(sf_data, feature):\n",
    "    '''\n",
    "    Create bar plot for categorical features\n",
    "    '''\n",
    "    graph = sns.countplot(data=sf_data, x= feature , hue='resolution', order = sf_data[feature].value_counts().index)\n",
    "    graph.set_xticklabels(graph.get_xticklabels(), rotation=90)\n",
    "    sns.set(rc={'figure.figsize':(10,5)})\n",
    "    plt.legend(loc=\"upper right\")\n",
    "\n",
    "def plot_his_bins(sf_data, feature, xlabel, binsize):\n",
    "    fig = plt.figure(figsize=(10,5))\n",
    "    NP = sf_data[sf_data['resolution']=='non_processed'][feature]\n",
    "    P = sf_data[sf_data['resolution']=='processed'][feature]\n",
    "    NP.hist(alpha = 0.70, bins = binsize, label='non_processed')\n",
    "    P.hist(alpha = 0.70, bins = binsize, label='processed')\n",
    "    plt.legend(loc=\"upper right\")\n",
    "    plt.xlabel(xlabel)\n",
    "    plt.ylabel(\"count\")\n",
    "    plt.tight_layout()\n",
    "    plt.savefig(args.output_file + str(feature) + \"_plot.png\")\n",
    "    plt.close()\n",
    "\n",
    "if __name__ == \"__main__\":\n",
    "    main()"
   ]
  },
  {
   "cell_type": "code",
   "execution_count": null,
   "metadata": {},
   "outputs": [],
   "source": []
  }
 ],
 "metadata": {
  "kernelspec": {
   "display_name": "Python 3",
   "language": "python",
   "name": "python3"
  },
  "language_info": {
   "codemirror_mode": {
    "name": "ipython",
    "version": 3
   },
   "file_extension": ".py",
   "mimetype": "text/x-python",
   "name": "python",
   "nbconvert_exporter": "python",
   "pygments_lexer": "ipython3",
   "version": "3.6.5"
  }
 },
 "nbformat": 4,
 "nbformat_minor": 2
}
